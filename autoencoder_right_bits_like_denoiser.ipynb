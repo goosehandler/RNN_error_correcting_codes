{
 "cells": [
  {
   "cell_type": "code",
   "execution_count": 1,
   "metadata": {},
   "outputs": [],
   "source": [
    "import numpy as np\n",
    "from tensorflow import keras\n",
    "from tensorflow.keras import layers\n",
    "import random\n",
    "import matplotlib.pyplot as plt"
   ]
  },
  {
   "cell_type": "code",
   "execution_count": 2,
   "metadata": {},
   "outputs": [],
   "source": [
    "def get_item(p):  # Function of generation random bits array with lenth 8\n",
    "    noise = np.random.rand(8) < p\n",
    "    binary_string = ''.join(str(int(b)) for b in noise)\n",
    "    result_integer = int(binary_string, 2)\n",
    "    return result_integer"
   ]
  },
  {
   "cell_type": "code",
   "execution_count": 3,
   "metadata": {},
   "outputs": [],
   "source": [
    "class DenoisingAutoencoder(keras.Model):\n",
    "    def __init__(self, latent_dim):\n",
    "        super(DenoisingAutoencoder, self).__init__()\n",
    "        self.encoder = keras.Sequential([\n",
    "            layers.Input(shape=(input_dim,)),  # Input layer\n",
    "            layers.Dense(128, activation='relu'),  # Hidden layer\n",
    "            layers.Dense(latent_dim, activation='relu')  # Latent space\n",
    "        ])\n",
    "        self.decoder = keras.Sequential([\n",
    "            layers.Dense(128, activation='relu'),  # Hidden layer\n",
    "            layers.Dense(input_dim, activation='sigmoid')  # Output layer\n",
    "        ])\n",
    "\n",
    "    def call(self, x):\n",
    "        p = 0.03\n",
    "        noise = np.array([get_item(p) for _ in range(128)])  # Add noise\n",
    "        x_noisy = x ^ noise  # Create noisy input\n",
    "        encoded = self.encoder(x_noisy)  # Encode noisy input\n",
    "        decoded = self.decoder(encoded)  # Decode back to original\n",
    "        return decoded"
   ]
  },
  {
   "cell_type": "code",
   "execution_count": 5,
   "metadata": {},
   "outputs": [],
   "source": [
    "input_dim = 64\n",
    "data = np.array([[random.getrandbits(8) for _ in range(64)] for _ in range(1000000)])"
   ]
  },
  {
   "cell_type": "code",
   "execution_count": 7,
   "metadata": {},
   "outputs": [],
   "source": [
    "latent_dim = 128  # Dimension of latent space\n",
    "autoencoder = DenoisingAutoencoder(latent_dim)\n",
    "\n",
    "p = 0.03\n",
    "noise = np.array([[get_item(p) for _ in range(64)] for _ in range(1000000)])  # Add noise\n",
    "x_noisy = data ^ noise  # Create noisy input"
   ]
  },
  {
   "cell_type": "code",
   "execution_count": null,
   "metadata": {},
   "outputs": [],
   "source": [
    "autoencoder.compile(optimizer='adam', loss='mean_squared_error')\n",
    "autoencoder.fit(x_noisy, data, epochs=10, batch_size=32)  # Train on original data"
   ]
  },
  {
   "cell_type": "code",
   "execution_count": 29,
   "metadata": {},
   "outputs": [
    {
     "name": "stdout",
     "output_type": "stream",
     "text": [
      "tf.Tensor(\n",
      "[[ 0.          0.          0.         38.01832     0.          0.\n",
      "   0.          0.          0.         65.358154    0.          0.\n",
      "   0.          0.         53.17025    22.743805   23.683601    0.\n",
      "   0.          0.          0.16200265  0.          0.          0.\n",
      "   0.          0.         12.505103   12.189944    0.         39.546333\n",
      "   0.         29.28175    41.00837     0.         38.319565   58.25923\n",
      "  40.353725   67.75286    59.023037   19.155825    1.2221249   0.\n",
      "   0.          0.          0.          0.          7.39626    21.683966\n",
      "   8.262469    4.485443   19.286865   17.894773    0.         67.36286\n",
      "  59.623394    0.         54.371983    0.          0.         19.358458\n",
      "  15.442731    0.          0.          0.         53.45756     0.\n",
      "  38.509445   23.461264    0.         41.266895    0.          0.\n",
      "   0.         92.462456   53.876232   36.725883    3.075022    0.\n",
      "   0.         28.072054   33.647823   50.543972   22.996023    0.\n",
      "  21.434927   35.445507   35.52179     0.         76.59743    19.954733\n",
      "   4.767644    0.         41.922447    0.          0.         25.492544\n",
      "   0.         23.508266    0.          0.          0.          0.\n",
      "   0.         38.788254   51.821465    0.          0.          0.\n",
      "   0.          0.          0.          0.          0.         31.04421\n",
      "   0.         11.638048   30.62397     0.          0.          0.\n",
      "  23.01731     0.          0.          0.         19.947693    0.\n",
      "   0.         47.351387  ]], shape=(1, 128), dtype=float32)\n"
     ]
    }
   ],
   "source": [
    "encoded_message = autoencoder.encoder(np.array([[random.getrandbits(8) for _ in range(8)]]))\n",
    "print(encoded_message)"
   ]
  },
  {
   "cell_type": "code",
   "execution_count": 30,
   "metadata": {},
   "outputs": [
    {
     "name": "stdout",
     "output_type": "stream",
     "text": [
      "Epoch 1/10\n",
      "\u001b[1m31250/31250\u001b[0m \u001b[32m━━━━━━━━━━━━━━━━━━━━\u001b[0m\u001b[37m\u001b[0m \u001b[1m18s\u001b[0m 549us/step - loss: 21487.0938\n",
      "Epoch 2/10\n",
      "\u001b[1m31250/31250\u001b[0m \u001b[32m━━━━━━━━━━━━━━━━━━━━\u001b[0m\u001b[37m\u001b[0m \u001b[1m18s\u001b[0m 590us/step - loss: 21475.0898\n",
      "Epoch 3/10\n",
      "\u001b[1m31250/31250\u001b[0m \u001b[32m━━━━━━━━━━━━━━━━━━━━\u001b[0m\u001b[37m\u001b[0m \u001b[1m19s\u001b[0m 618us/step - loss: 21478.4258\n",
      "Epoch 4/10\n",
      "\u001b[1m31250/31250\u001b[0m \u001b[32m━━━━━━━━━━━━━━━━━━━━\u001b[0m\u001b[37m\u001b[0m \u001b[1m19s\u001b[0m 620us/step - loss: 21470.7109\n",
      "Epoch 5/10\n",
      "\u001b[1m31250/31250\u001b[0m \u001b[32m━━━━━━━━━━━━━━━━━━━━\u001b[0m\u001b[37m\u001b[0m \u001b[1m20s\u001b[0m 648us/step - loss: 21466.2031\n",
      "Epoch 6/10\n",
      "\u001b[1m31250/31250\u001b[0m \u001b[32m━━━━━━━━━━━━━━━━━━━━\u001b[0m\u001b[37m\u001b[0m \u001b[1m20s\u001b[0m 635us/step - loss: 21475.6367\n",
      "Epoch 7/10\n",
      "\u001b[1m31250/31250\u001b[0m \u001b[32m━━━━━━━━━━━━━━━━━━━━\u001b[0m\u001b[37m\u001b[0m \u001b[1m19s\u001b[0m 611us/step - loss: 21472.3066\n",
      "Epoch 8/10\n",
      "\u001b[1m31250/31250\u001b[0m \u001b[32m━━━━━━━━━━━━━━━━━━━━\u001b[0m\u001b[37m\u001b[0m \u001b[1m19s\u001b[0m 621us/step - loss: 21469.9785\n",
      "Epoch 9/10\n",
      "\u001b[1m31250/31250\u001b[0m \u001b[32m━━━━━━━━━━━━━━━━━━━━\u001b[0m\u001b[37m\u001b[0m \u001b[1m20s\u001b[0m 637us/step - loss: 21474.0703\n",
      "Epoch 10/10\n",
      "\u001b[1m31250/31250\u001b[0m \u001b[32m━━━━━━━━━━━━━━━━━━━━\u001b[0m\u001b[37m\u001b[0m \u001b[1m21s\u001b[0m 657us/step - loss: 21480.0156\n"
     ]
    },
    {
     "data": {
      "text/plain": [
       "<keras.src.callbacks.history.History at 0x29276e550>"
      ]
     },
     "execution_count": 30,
     "metadata": {},
     "output_type": "execute_result"
    }
   ],
   "source": [
    "latent_dim = 64  # Dimension of latent space\n",
    "autoencoder = DenoisingAutoencoder(latent_dim)\n",
    "\n",
    "autoencoder.compile(optimizer='adam', loss='mean_squared_error')\n",
    "autoencoder.fit(data, data, epochs=10, batch_size=32)  # Train on original data"
   ]
  },
  {
   "cell_type": "code",
   "execution_count": 34,
   "metadata": {},
   "outputs": [
    {
     "name": "stdout",
     "output_type": "stream",
     "text": [
      "tf.Tensor(\n",
      "[[  0.         0.         0.         0.         0.         0.\n",
      "   18.547686   0.         0.        35.72628   36.05042   76.74711\n",
      "   51.483913  43.860306  73.00447   49.862114  29.501163  70.95864\n",
      "    0.         0.         0.        37.572968   0.        17.283861\n",
      "   84.7498    61.69039    0.        50.976784  71.22127    0.\n",
      "    0.         0.         0.         0.        30.026886   0.\n",
      "    0.         0.         0.        86.3741   104.68269   22.669992\n",
      "  119.031746  65.783264  58.60173   40.23284   43.508728  70.19675\n",
      "   35.544636   0.        37.384514  53.48927   53.089794   4.912781\n",
      "    0.        62.884056   0.         0.         0.        81.438644\n",
      "    0.        52.31676    0.         0.      ]], shape=(1, 64), dtype=float32)\n"
     ]
    }
   ],
   "source": [
    "encoded_message = autoencoder.encoder(np.array([[random.getrandbits(8) for _ in range(8)]]))\n",
    "print(encoded_message)"
   ]
  },
  {
   "cell_type": "code",
   "execution_count": 35,
   "metadata": {},
   "outputs": [
    {
     "name": "stdout",
     "output_type": "stream",
     "text": [
      "tf.Tensor([[1. 1. 1. 1. 1. 1. 1. 1.]], shape=(1, 8), dtype=float32)\n"
     ]
    }
   ],
   "source": [
    "# Decoding the encoded message\n",
    "decoded_message = autoencoder.decoder(encoded_message)\n",
    "print(decoded_message)"
   ]
  },
  {
   "cell_type": "markdown",
   "metadata": {},
   "source": [
    "Loss doesn't falling"
   ]
  },
  {
   "cell_type": "code",
   "execution_count": 40,
   "metadata": {},
   "outputs": [
    {
     "name": "stdout",
     "output_type": "stream",
     "text": [
      "\u001b[1m31250/31250\u001b[0m \u001b[32m━━━━━━━━━━━━━━━━━━━━\u001b[0m\u001b[37m\u001b[0m \u001b[1m22s\u001b[0m 703us/step - loss: 21483.0020\n"
     ]
    },
    {
     "data": {
      "text/plain": [
       "<keras.src.callbacks.history.History at 0x2cfa46550>"
      ]
     },
     "execution_count": 40,
     "metadata": {},
     "output_type": "execute_result"
    }
   ],
   "source": [
    "latent_dim = 128  # Dimension of latent space\n",
    "autoencoder = DenoisingAutoencoder(latent_dim)\n",
    "\n",
    "autoencoder.compile(optimizer='adam', loss='mean_squared_error')\n",
    "autoencoder.fit(data, data, epochs=1, batch_size=32)  # Train on original data"
   ]
  },
  {
   "cell_type": "code",
   "execution_count": null,
   "metadata": {},
   "outputs": [],
   "source": []
  }
 ],
 "metadata": {
  "kernelspec": {
   "display_name": "Python 3",
   "language": "python",
   "name": "python3"
  },
  "language_info": {
   "codemirror_mode": {
    "name": "ipython",
    "version": 3
   },
   "file_extension": ".py",
   "mimetype": "text/x-python",
   "name": "python",
   "nbconvert_exporter": "python",
   "pygments_lexer": "ipython3",
   "version": "3.11.10"
  }
 },
 "nbformat": 4,
 "nbformat_minor": 2
}
